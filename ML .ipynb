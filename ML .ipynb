{
 "cells": [
  {
   "cell_type": "markdown",
   "id": "4946a6c8",
   "metadata": {},
   "source": [
    "# Linear Regression"
   ]
  },
  {
   "cell_type": "code",
   "execution_count": 48,
   "id": "fa470460",
   "metadata": {},
   "outputs": [],
   "source": [
    "import pandas as pd\n",
    "import seaborn as sn\n",
    "df= pd.read_csv('Admission_Prediction.csv')"
   ]
  },
  {
   "cell_type": "code",
   "execution_count": 49,
   "id": "ff6f46ef",
   "metadata": {},
   "outputs": [
    {
     "data": {
      "text/html": [
       "<div>\n",
       "<style scoped>\n",
       "    .dataframe tbody tr th:only-of-type {\n",
       "        vertical-align: middle;\n",
       "    }\n",
       "\n",
       "    .dataframe tbody tr th {\n",
       "        vertical-align: top;\n",
       "    }\n",
       "\n",
       "    .dataframe thead th {\n",
       "        text-align: right;\n",
       "    }\n",
       "</style>\n",
       "<table border=\"1\" class=\"dataframe\">\n",
       "  <thead>\n",
       "    <tr style=\"text-align: right;\">\n",
       "      <th></th>\n",
       "      <th>Serial No.</th>\n",
       "      <th>GRE Score</th>\n",
       "      <th>TOEFL Score</th>\n",
       "      <th>University Rating</th>\n",
       "      <th>SOP</th>\n",
       "      <th>LOR</th>\n",
       "      <th>CGPA</th>\n",
       "      <th>Research</th>\n",
       "      <th>Chance of Admit</th>\n",
       "    </tr>\n",
       "  </thead>\n",
       "  <tbody>\n",
       "    <tr>\n",
       "      <th>0</th>\n",
       "      <td>1</td>\n",
       "      <td>337.0</td>\n",
       "      <td>118.0</td>\n",
       "      <td>4.0</td>\n",
       "      <td>4.5</td>\n",
       "      <td>4.5</td>\n",
       "      <td>9.65</td>\n",
       "      <td>1</td>\n",
       "      <td>0.92</td>\n",
       "    </tr>\n",
       "    <tr>\n",
       "      <th>1</th>\n",
       "      <td>2</td>\n",
       "      <td>324.0</td>\n",
       "      <td>107.0</td>\n",
       "      <td>4.0</td>\n",
       "      <td>4.0</td>\n",
       "      <td>4.5</td>\n",
       "      <td>8.87</td>\n",
       "      <td>1</td>\n",
       "      <td>0.76</td>\n",
       "    </tr>\n",
       "    <tr>\n",
       "      <th>2</th>\n",
       "      <td>3</td>\n",
       "      <td>NaN</td>\n",
       "      <td>104.0</td>\n",
       "      <td>3.0</td>\n",
       "      <td>3.0</td>\n",
       "      <td>3.5</td>\n",
       "      <td>8.00</td>\n",
       "      <td>1</td>\n",
       "      <td>0.72</td>\n",
       "    </tr>\n",
       "    <tr>\n",
       "      <th>3</th>\n",
       "      <td>4</td>\n",
       "      <td>322.0</td>\n",
       "      <td>110.0</td>\n",
       "      <td>3.0</td>\n",
       "      <td>3.5</td>\n",
       "      <td>2.5</td>\n",
       "      <td>8.67</td>\n",
       "      <td>1</td>\n",
       "      <td>0.80</td>\n",
       "    </tr>\n",
       "    <tr>\n",
       "      <th>4</th>\n",
       "      <td>5</td>\n",
       "      <td>314.0</td>\n",
       "      <td>103.0</td>\n",
       "      <td>2.0</td>\n",
       "      <td>2.0</td>\n",
       "      <td>3.0</td>\n",
       "      <td>8.21</td>\n",
       "      <td>0</td>\n",
       "      <td>0.65</td>\n",
       "    </tr>\n",
       "    <tr>\n",
       "      <th>...</th>\n",
       "      <td>...</td>\n",
       "      <td>...</td>\n",
       "      <td>...</td>\n",
       "      <td>...</td>\n",
       "      <td>...</td>\n",
       "      <td>...</td>\n",
       "      <td>...</td>\n",
       "      <td>...</td>\n",
       "      <td>...</td>\n",
       "    </tr>\n",
       "    <tr>\n",
       "      <th>495</th>\n",
       "      <td>496</td>\n",
       "      <td>332.0</td>\n",
       "      <td>108.0</td>\n",
       "      <td>5.0</td>\n",
       "      <td>4.5</td>\n",
       "      <td>4.0</td>\n",
       "      <td>9.02</td>\n",
       "      <td>1</td>\n",
       "      <td>0.87</td>\n",
       "    </tr>\n",
       "    <tr>\n",
       "      <th>496</th>\n",
       "      <td>497</td>\n",
       "      <td>337.0</td>\n",
       "      <td>117.0</td>\n",
       "      <td>5.0</td>\n",
       "      <td>5.0</td>\n",
       "      <td>5.0</td>\n",
       "      <td>9.87</td>\n",
       "      <td>1</td>\n",
       "      <td>0.96</td>\n",
       "    </tr>\n",
       "    <tr>\n",
       "      <th>497</th>\n",
       "      <td>498</td>\n",
       "      <td>330.0</td>\n",
       "      <td>120.0</td>\n",
       "      <td>5.0</td>\n",
       "      <td>4.5</td>\n",
       "      <td>5.0</td>\n",
       "      <td>9.56</td>\n",
       "      <td>1</td>\n",
       "      <td>0.93</td>\n",
       "    </tr>\n",
       "    <tr>\n",
       "      <th>498</th>\n",
       "      <td>499</td>\n",
       "      <td>312.0</td>\n",
       "      <td>103.0</td>\n",
       "      <td>4.0</td>\n",
       "      <td>4.0</td>\n",
       "      <td>5.0</td>\n",
       "      <td>8.43</td>\n",
       "      <td>0</td>\n",
       "      <td>0.73</td>\n",
       "    </tr>\n",
       "    <tr>\n",
       "      <th>499</th>\n",
       "      <td>500</td>\n",
       "      <td>327.0</td>\n",
       "      <td>113.0</td>\n",
       "      <td>4.0</td>\n",
       "      <td>4.5</td>\n",
       "      <td>4.5</td>\n",
       "      <td>9.04</td>\n",
       "      <td>0</td>\n",
       "      <td>0.84</td>\n",
       "    </tr>\n",
       "  </tbody>\n",
       "</table>\n",
       "<p>500 rows × 9 columns</p>\n",
       "</div>"
      ],
      "text/plain": [
       "     Serial No.  GRE Score  TOEFL Score  University Rating  SOP  LOR  CGPA  \\\n",
       "0             1      337.0        118.0                4.0  4.5  4.5  9.65   \n",
       "1             2      324.0        107.0                4.0  4.0  4.5  8.87   \n",
       "2             3        NaN        104.0                3.0  3.0  3.5  8.00   \n",
       "3             4      322.0        110.0                3.0  3.5  2.5  8.67   \n",
       "4             5      314.0        103.0                2.0  2.0  3.0  8.21   \n",
       "..          ...        ...          ...                ...  ...  ...   ...   \n",
       "495         496      332.0        108.0                5.0  4.5  4.0  9.02   \n",
       "496         497      337.0        117.0                5.0  5.0  5.0  9.87   \n",
       "497         498      330.0        120.0                5.0  4.5  5.0  9.56   \n",
       "498         499      312.0        103.0                4.0  4.0  5.0  8.43   \n",
       "499         500      327.0        113.0                4.0  4.5  4.5  9.04   \n",
       "\n",
       "     Research  Chance of Admit  \n",
       "0           1             0.92  \n",
       "1           1             0.76  \n",
       "2           1             0.72  \n",
       "3           1             0.80  \n",
       "4           0             0.65  \n",
       "..        ...              ...  \n",
       "495         1             0.87  \n",
       "496         1             0.96  \n",
       "497         1             0.93  \n",
       "498         0             0.73  \n",
       "499         0             0.84  \n",
       "\n",
       "[500 rows x 9 columns]"
      ]
     },
     "execution_count": 49,
     "metadata": {},
     "output_type": "execute_result"
    }
   ],
   "source": [
    "df"
   ]
  },
  {
   "cell_type": "code",
   "execution_count": 50,
   "id": "2dd08119",
   "metadata": {},
   "outputs": [],
   "source": [
    "df.drop(columns=['Serial No.'],inplace=True)"
   ]
  },
  {
   "cell_type": "code",
   "execution_count": 51,
   "id": "89bf4b8d",
   "metadata": {},
   "outputs": [
    {
     "data": {
      "text/plain": [
       "GRE Score            15\n",
       "TOEFL Score          10\n",
       "University Rating    15\n",
       "SOP                   0\n",
       "LOR                   0\n",
       "CGPA                  0\n",
       "Research              0\n",
       "Chance of Admit       0\n",
       "dtype: int64"
      ]
     },
     "execution_count": 51,
     "metadata": {},
     "output_type": "execute_result"
    }
   ],
   "source": [
    "df.isnull().sum()"
   ]
  },
  {
   "cell_type": "code",
   "execution_count": 53,
   "id": "c61d3fa5",
   "metadata": {},
   "outputs": [],
   "source": [
    "df['University Rating'].fillna(df['University Rating'].mode()[0],inplace=True)"
   ]
  },
  {
   "cell_type": "code",
   "execution_count": 57,
   "id": "167b3c37",
   "metadata": {},
   "outputs": [],
   "source": [
    "df['GRE Score'].fillna(df['GRE Score'].mean(),inplace=True)"
   ]
  },
  {
   "cell_type": "code",
   "execution_count": 54,
   "id": "e984057c",
   "metadata": {},
   "outputs": [],
   "source": [
    "df['TOEFL Score'].fillna(df['TOEFL Score'].mean(),inplace=True)"
   ]
  },
  {
   "cell_type": "code",
   "execution_count": 55,
   "id": "2556784b",
   "metadata": {},
   "outputs": [
    {
     "data": {
      "text/plain": [
       "array([[<AxesSubplot: title={'center': 'GRE Score'}>,\n",
       "        <AxesSubplot: title={'center': 'TOEFL Score'}>,\n",
       "        <AxesSubplot: title={'center': 'University Rating'}>],\n",
       "       [<AxesSubplot: title={'center': 'SOP'}>,\n",
       "        <AxesSubplot: title={'center': 'LOR'}>,\n",
       "        <AxesSubplot: title={'center': 'CGPA'}>],\n",
       "       [<AxesSubplot: title={'center': 'Research'}>,\n",
       "        <AxesSubplot: title={'center': 'Chance of Admit'}>,\n",
       "        <AxesSubplot: >]], dtype=object)"
      ]
     },
     "execution_count": 55,
     "metadata": {},
     "output_type": "execute_result"
    },
    {
     "data": {
      "image/png": "[encoded data removed]",
      "text/plain": [
       "<Figure size 640x480 with 9 Axes>"
      ]
     },
     "metadata": {},
     "output_type": "display_data"
    }
   ],
   "source": [
    "df.hist()"
   ]
  },
  {
   "cell_type": "code",
   "execution_count": 58,
   "id": "128156d3",
   "metadata": {},
   "outputs": [
    {
     "data": {
      "text/plain": [
       "GRE Score            0\n",
       "TOEFL Score          0\n",
       "University Rating    0\n",
       "SOP                  0\n",
       "LOR                  0\n",
       "CGPA                 0\n",
       "Research             0\n",
       "Chance of Admit      0\n",
       "dtype: int64"
      ]
     },
     "execution_count": 58,
     "metadata": {},
     "output_type": "execute_result"
    }
   ],
   "source": [
    "df.isnull().sum()"
   ]
  },
  {
   "cell_type": "code",
   "execution_count": 59,
   "id": "2c30703a",
   "metadata": {},
   "outputs": [
    {
     "data": {
      "text/html": [
       "<div>\n",
       "<style scoped>\n",
       "    .dataframe tbody tr th:only-of-type {\n",
       "        vertical-align: middle;\n",
       "    }\n",
       "\n",
       "    .dataframe tbody tr th {\n",
       "        vertical-align: top;\n",
       "    }\n",
       "\n",
       "    .dataframe thead th {\n",
       "        text-align: right;\n",
       "    }\n",
       "</style>\n",
       "<table border=\"1\" class=\"dataframe\">\n",
       "  <thead>\n",
       "    <tr style=\"text-align: right;\">\n",
       "      <th></th>\n",
       "      <th>GRE Score</th>\n",
       "      <th>TOEFL Score</th>\n",
       "      <th>University Rating</th>\n",
       "      <th>SOP</th>\n",
       "      <th>LOR</th>\n",
       "      <th>CGPA</th>\n",
       "      <th>Research</th>\n",
       "      <th>Chance of Admit</th>\n",
       "    </tr>\n",
       "  </thead>\n",
       "  <tbody>\n",
       "    <tr>\n",
       "      <th>0</th>\n",
       "      <td>337.000000</td>\n",
       "      <td>118.0</td>\n",
       "      <td>4.0</td>\n",
       "      <td>4.5</td>\n",
       "      <td>4.5</td>\n",
       "      <td>9.65</td>\n",
       "      <td>1</td>\n",
       "      <td>0.92</td>\n",
       "    </tr>\n",
       "    <tr>\n",
       "      <th>1</th>\n",
       "      <td>324.000000</td>\n",
       "      <td>107.0</td>\n",
       "      <td>4.0</td>\n",
       "      <td>4.0</td>\n",
       "      <td>4.5</td>\n",
       "      <td>8.87</td>\n",
       "      <td>1</td>\n",
       "      <td>0.76</td>\n",
       "    </tr>\n",
       "    <tr>\n",
       "      <th>2</th>\n",
       "      <td>316.558763</td>\n",
       "      <td>104.0</td>\n",
       "      <td>3.0</td>\n",
       "      <td>3.0</td>\n",
       "      <td>3.5</td>\n",
       "      <td>8.00</td>\n",
       "      <td>1</td>\n",
       "      <td>0.72</td>\n",
       "    </tr>\n",
       "    <tr>\n",
       "      <th>3</th>\n",
       "      <td>322.000000</td>\n",
       "      <td>110.0</td>\n",
       "      <td>3.0</td>\n",
       "      <td>3.5</td>\n",
       "      <td>2.5</td>\n",
       "      <td>8.67</td>\n",
       "      <td>1</td>\n",
       "      <td>0.80</td>\n",
       "    </tr>\n",
       "    <tr>\n",
       "      <th>4</th>\n",
       "      <td>314.000000</td>\n",
       "      <td>103.0</td>\n",
       "      <td>2.0</td>\n",
       "      <td>2.0</td>\n",
       "      <td>3.0</td>\n",
       "      <td>8.21</td>\n",
       "      <td>0</td>\n",
       "      <td>0.65</td>\n",
       "    </tr>\n",
       "    <tr>\n",
       "      <th>...</th>\n",
       "      <td>...</td>\n",
       "      <td>...</td>\n",
       "      <td>...</td>\n",
       "      <td>...</td>\n",
       "      <td>...</td>\n",
       "      <td>...</td>\n",
       "      <td>...</td>\n",
       "      <td>...</td>\n",
       "    </tr>\n",
       "    <tr>\n",
       "      <th>495</th>\n",
       "      <td>332.000000</td>\n",
       "      <td>108.0</td>\n",
       "      <td>5.0</td>\n",
       "      <td>4.5</td>\n",
       "      <td>4.0</td>\n",
       "      <td>9.02</td>\n",
       "      <td>1</td>\n",
       "      <td>0.87</td>\n",
       "    </tr>\n",
       "    <tr>\n",
       "      <th>496</th>\n",
       "      <td>337.000000</td>\n",
       "      <td>117.0</td>\n",
       "      <td>5.0</td>\n",
       "      <td>5.0</td>\n",
       "      <td>5.0</td>\n",
       "      <td>9.87</td>\n",
       "      <td>1</td>\n",
       "      <td>0.96</td>\n",
       "    </tr>\n",
       "    <tr>\n",
       "      <th>497</th>\n",
       "      <td>330.000000</td>\n",
       "      <td>120.0</td>\n",
       "      <td>5.0</td>\n",
       "      <td>4.5</td>\n",
       "      <td>5.0</td>\n",
       "      <td>9.56</td>\n",
       "      <td>1</td>\n",
       "      <td>0.93</td>\n",
       "    </tr>\n",
       "    <tr>\n",
       "      <th>498</th>\n",
       "      <td>312.000000</td>\n",
       "      <td>103.0</td>\n",
       "      <td>4.0</td>\n",
       "      <td>4.0</td>\n",
       "      <td>5.0</td>\n",
       "      <td>8.43</td>\n",
       "      <td>0</td>\n",
       "      <td>0.73</td>\n",
       "    </tr>\n",
       "    <tr>\n",
       "      <th>499</th>\n",
       "      <td>327.000000</td>\n",
       "      <td>113.0</td>\n",
       "      <td>4.0</td>\n",
       "      <td>4.5</td>\n",
       "      <td>4.5</td>\n",
       "      <td>9.04</td>\n",
       "      <td>0</td>\n",
       "      <td>0.84</td>\n",
       "    </tr>\n",
       "  </tbody>\n",
       "</table>\n",
       "<p>500 rows × 8 columns</p>\n",
       "</div>"
      ],
      "text/plain": [
       "      GRE Score  TOEFL Score  University Rating  SOP  LOR  CGPA  Research  \\\n",
       "0    337.000000        118.0                4.0  4.5  4.5  9.65         1   \n",
       "1    324.000000        107.0                4.0  4.0  4.5  8.87         1   \n",
       "2    316.558763        104.0                3.0  3.0  3.5  8.00         1   \n",
       "3    322.000000        110.0                3.0  3.5  2.5  8.67         1   \n",
       "4    314.000000        103.0                2.0  2.0  3.0  8.21         0   \n",
       "..          ...          ...                ...  ...  ...   ...       ...   \n",
       "495  332.000000        108.0                5.0  4.5  4.0  9.02         1   \n",
       "496  337.000000        117.0                5.0  5.0  5.0  9.87         1   \n",
       "497  330.000000        120.0                5.0  4.5  5.0  9.56         1   \n",
       "498  312.000000        103.0                4.0  4.0  5.0  8.43         0   \n",
       "499  327.000000        113.0                4.0  4.5  4.5  9.04         0   \n",
       "\n",
       "     Chance of Admit  \n",
       "0               0.92  \n",
       "1               0.76  \n",
       "2               0.72  \n",
       "3               0.80  \n",
       "4               0.65  \n",
       "..               ...  \n",
       "495             0.87  \n",
       "496             0.96  \n",
       "497             0.93  \n",
       "498             0.73  \n",
       "499             0.84  \n",
       "\n",
       "[500 rows x 8 columns]"
      ]
     },
     "execution_count": 59,
     "metadata": {},
     "output_type": "execute_result"
    }
   ],
   "source": [
    "df"
   ]
  },
  {
   "cell_type": "markdown",
   "id": "08095034",
   "metadata": {},
   "source": [
    "# CASE 1: without scaling the data (linear regression)"
   ]
  },
  {
   "cell_type": "code",
   "execution_count": 60,
   "id": "13c5453a",
   "metadata": {},
   "outputs": [],
   "source": [
    "from sklearn.linear_model import LinearRegression,ridge_regression\n",
    "from sklearn.preprocessing import StandardScaler\n",
    "from sklearn.metrics import r2_score\n",
    "from sklearn.model_selection import train_test_split\n",
    "ind=df.columns[0:len(df.columns)-1]\n",
    "dep=df.columns[-1]\n",
    "x = df[ind]\n",
    "y = df[dep]\n",
    "X=x.values\n",
    "Y=y.values\n",
    "model=LinearRegression()\n",
    "x_train,x_test,y_train,y_test = train_test_split(X,Y,test_size = 0.25,random_state=355)\n",
    "model.fit(x_train,y_train)\n",
    "# model.coef_\n",
    "df['predict']=model.predict(x.values)"
   ]
  },
  {
   "cell_type": "code",
   "execution_count": 62,
   "id": "79f698f2",
   "metadata": {},
   "outputs": [
    {
     "data": {
      "text/plain": [
       "0.8415250484247909"
      ]
     },
     "execution_count": 62,
     "metadata": {},
     "output_type": "execute_result"
    }
   ],
   "source": [
    "model.score(x_train,y_train)"
   ]
  },
  {
   "cell_type": "code",
   "execution_count": 63,
   "id": "ce5d107b",
   "metadata": {},
   "outputs": [
    {
     "data": {
      "text/plain": [
       "0.7534898831471069"
      ]
     },
     "execution_count": 63,
     "metadata": {},
     "output_type": "execute_result"
    }
   ],
   "source": [
    "model.score(x_test,y_test)"
   ]
  },
  {
   "cell_type": "code",
   "execution_count": 64,
   "id": "368ddd0c",
   "metadata": {},
   "outputs": [
    {
     "data": {
      "text/plain": [
       "375"
      ]
     },
     "execution_count": 64,
     "metadata": {},
     "output_type": "execute_result"
    }
   ],
   "source": [
    "len(x_train)"
   ]
  },
  {
   "cell_type": "code",
   "execution_count": 65,
   "id": "eec70f17",
   "metadata": {},
   "outputs": [
    {
     "data": {
      "text/plain": [
       "375"
      ]
     },
     "execution_count": 65,
     "metadata": {},
     "output_type": "execute_result"
    }
   ],
   "source": [
    "len(y_train)"
   ]
  },
  {
   "cell_type": "code",
   "execution_count": 66,
   "id": "ad823199",
   "metadata": {},
   "outputs": [
    {
     "data": {
      "text/plain": [
       "125"
      ]
     },
     "execution_count": 66,
     "metadata": {},
     "output_type": "execute_result"
    }
   ],
   "source": [
    "len(x_test)"
   ]
  },
  {
   "cell_type": "code",
   "execution_count": 67,
   "id": "f8746cfe",
   "metadata": {},
   "outputs": [
    {
     "data": {
      "text/plain": [
       "125"
      ]
     },
     "execution_count": 67,
     "metadata": {},
     "output_type": "execute_result"
    }
   ],
   "source": [
    "len(y_test)"
   ]
  },
  {
   "cell_type": "code",
   "execution_count": 68,
   "id": "ae8a30b5",
   "metadata": {},
   "outputs": [],
   "source": [
    "# Let's create a function to create adjusted R-Squared\n",
    "def adj_r2(x,y):\n",
    "    r2 = model.score(x,y)\n",
    "    n = x_train.shape[0]\n",
    "    p = x_train.shape[1]\n",
    "    adjusted_r2 = 1-(1-r2)*(n-1)/(n-p-1)\n",
    "    return adjusted_r2"
   ]
  },
  {
   "cell_type": "code",
   "execution_count": 69,
   "id": "42848b7a",
   "metadata": {},
   "outputs": [
    {
     "data": {
      "text/plain": [
       "0.8385023654247188"
      ]
     },
     "execution_count": 69,
     "metadata": {},
     "output_type": "execute_result"
    }
   ],
   "source": [
    "adj_r2(x_train,y_train)"
   ]
  },
  {
   "cell_type": "code",
   "execution_count": 70,
   "id": "0ffa3185",
   "metadata": {},
   "outputs": [
    {
     "data": {
      "text/plain": [
       "0.7487880553052261"
      ]
     },
     "execution_count": 70,
     "metadata": {},
     "output_type": "execute_result"
    }
   ],
   "source": [
    "adj_r2(x_test,y_test)"
   ]
  },
  {
   "cell_type": "code",
   "execution_count": 71,
   "id": "53dec7e0",
   "metadata": {},
   "outputs": [
    {
     "data": {
      "text/html": [
       "<div>\n",
       "<style scoped>\n",
       "    .dataframe tbody tr th:only-of-type {\n",
       "        vertical-align: middle;\n",
       "    }\n",
       "\n",
       "    .dataframe tbody tr th {\n",
       "        vertical-align: top;\n",
       "    }\n",
       "\n",
       "    .dataframe thead th {\n",
       "        text-align: right;\n",
       "    }\n",
       "</style>\n",
       "<table border=\"1\" class=\"dataframe\">\n",
       "  <thead>\n",
       "    <tr style=\"text-align: right;\">\n",
       "      <th></th>\n",
       "      <th>GRE Score</th>\n",
       "      <th>TOEFL Score</th>\n",
       "      <th>University Rating</th>\n",
       "      <th>SOP</th>\n",
       "      <th>LOR</th>\n",
       "      <th>CGPA</th>\n",
       "      <th>Research</th>\n",
       "      <th>Chance of Admit</th>\n",
       "      <th>predict</th>\n",
       "    </tr>\n",
       "  </thead>\n",
       "  <tbody>\n",
       "    <tr>\n",
       "      <th>0</th>\n",
       "      <td>337.000000</td>\n",
       "      <td>118.0</td>\n",
       "      <td>4.0</td>\n",
       "      <td>4.5</td>\n",
       "      <td>4.5</td>\n",
       "      <td>9.65</td>\n",
       "      <td>1</td>\n",
       "      <td>0.92</td>\n",
       "      <td>0.956552</td>\n",
       "    </tr>\n",
       "    <tr>\n",
       "      <th>1</th>\n",
       "      <td>324.000000</td>\n",
       "      <td>107.0</td>\n",
       "      <td>4.0</td>\n",
       "      <td>4.0</td>\n",
       "      <td>4.5</td>\n",
       "      <td>8.87</td>\n",
       "      <td>1</td>\n",
       "      <td>0.76</td>\n",
       "      <td>0.806160</td>\n",
       "    </tr>\n",
       "    <tr>\n",
       "      <th>2</th>\n",
       "      <td>316.558763</td>\n",
       "      <td>104.0</td>\n",
       "      <td>3.0</td>\n",
       "      <td>3.0</td>\n",
       "      <td>3.5</td>\n",
       "      <td>8.00</td>\n",
       "      <td>1</td>\n",
       "      <td>0.72</td>\n",
       "      <td>0.650073</td>\n",
       "    </tr>\n",
       "    <tr>\n",
       "      <th>3</th>\n",
       "      <td>322.000000</td>\n",
       "      <td>110.0</td>\n",
       "      <td>3.0</td>\n",
       "      <td>3.5</td>\n",
       "      <td>2.5</td>\n",
       "      <td>8.67</td>\n",
       "      <td>1</td>\n",
       "      <td>0.80</td>\n",
       "      <td>0.744834</td>\n",
       "    </tr>\n",
       "    <tr>\n",
       "      <th>4</th>\n",
       "      <td>314.000000</td>\n",
       "      <td>103.0</td>\n",
       "      <td>2.0</td>\n",
       "      <td>2.0</td>\n",
       "      <td>3.0</td>\n",
       "      <td>8.21</td>\n",
       "      <td>0</td>\n",
       "      <td>0.65</td>\n",
       "      <td>0.637029</td>\n",
       "    </tr>\n",
       "    <tr>\n",
       "      <th>...</th>\n",
       "      <td>...</td>\n",
       "      <td>...</td>\n",
       "      <td>...</td>\n",
       "      <td>...</td>\n",
       "      <td>...</td>\n",
       "      <td>...</td>\n",
       "      <td>...</td>\n",
       "      <td>...</td>\n",
       "      <td>...</td>\n",
       "    </tr>\n",
       "    <tr>\n",
       "      <th>495</th>\n",
       "      <td>332.000000</td>\n",
       "      <td>108.0</td>\n",
       "      <td>5.0</td>\n",
       "      <td>4.5</td>\n",
       "      <td>4.0</td>\n",
       "      <td>9.02</td>\n",
       "      <td>1</td>\n",
       "      <td>0.87</td>\n",
       "      <td>0.840989</td>\n",
       "    </tr>\n",
       "    <tr>\n",
       "      <th>496</th>\n",
       "      <td>337.000000</td>\n",
       "      <td>117.0</td>\n",
       "      <td>5.0</td>\n",
       "      <td>5.0</td>\n",
       "      <td>5.0</td>\n",
       "      <td>9.87</td>\n",
       "      <td>1</td>\n",
       "      <td>0.96</td>\n",
       "      <td>0.995957</td>\n",
       "    </tr>\n",
       "    <tr>\n",
       "      <th>497</th>\n",
       "      <td>330.000000</td>\n",
       "      <td>120.0</td>\n",
       "      <td>5.0</td>\n",
       "      <td>4.5</td>\n",
       "      <td>5.0</td>\n",
       "      <td>9.56</td>\n",
       "      <td>1</td>\n",
       "      <td>0.93</td>\n",
       "      <td>0.945631</td>\n",
       "    </tr>\n",
       "    <tr>\n",
       "      <th>498</th>\n",
       "      <td>312.000000</td>\n",
       "      <td>103.0</td>\n",
       "      <td>4.0</td>\n",
       "      <td>4.0</td>\n",
       "      <td>5.0</td>\n",
       "      <td>8.43</td>\n",
       "      <td>0</td>\n",
       "      <td>0.73</td>\n",
       "      <td>0.704119</td>\n",
       "    </tr>\n",
       "    <tr>\n",
       "      <th>499</th>\n",
       "      <td>327.000000</td>\n",
       "      <td>113.0</td>\n",
       "      <td>4.0</td>\n",
       "      <td>4.5</td>\n",
       "      <td>4.5</td>\n",
       "      <td>9.04</td>\n",
       "      <td>0</td>\n",
       "      <td>0.84</td>\n",
       "      <td>0.826666</td>\n",
       "    </tr>\n",
       "  </tbody>\n",
       "</table>\n",
       "<p>500 rows × 9 columns</p>\n",
       "</div>"
      ],
      "text/plain": [
       "      GRE Score  TOEFL Score  University Rating  SOP  LOR  CGPA  Research  \\\n",
       "0    337.000000        118.0                4.0  4.5  4.5  9.65         1   \n",
       "1    324.000000        107.0                4.0  4.0  4.5  8.87         1   \n",
       "2    316.558763        104.0                3.0  3.0  3.5  8.00         1   \n",
       "3    322.000000        110.0                3.0  3.5  2.5  8.67         1   \n",
       "4    314.000000        103.0                2.0  2.0  3.0  8.21         0   \n",
       "..          ...          ...                ...  ...  ...   ...       ...   \n",
       "495  332.000000        108.0                5.0  4.5  4.0  9.02         1   \n",
       "496  337.000000        117.0                5.0  5.0  5.0  9.87         1   \n",
       "497  330.000000        120.0                5.0  4.5  5.0  9.56         1   \n",
       "498  312.000000        103.0                4.0  4.0  5.0  8.43         0   \n",
       "499  327.000000        113.0                4.0  4.5  4.5  9.04         0   \n",
       "\n",
       "     Chance of Admit   predict  \n",
       "0               0.92  0.956552  \n",
       "1               0.76  0.806160  \n",
       "2               0.72  0.650073  \n",
       "3               0.80  0.744834  \n",
       "4               0.65  0.637029  \n",
       "..               ...       ...  \n",
       "495             0.87  0.840989  \n",
       "496             0.96  0.995957  \n",
       "497             0.93  0.945631  \n",
       "498             0.73  0.704119  \n",
       "499             0.84  0.826666  \n",
       "\n",
       "[500 rows x 9 columns]"
      ]
     },
     "execution_count": 71,
     "metadata": {},
     "output_type": "execute_result"
    }
   ],
   "source": [
    "df"
   ]
  },
  {
   "cell_type": "code",
   "execution_count": 72,
   "id": "5f1c52fd",
   "metadata": {},
   "outputs": [
    {
     "data": {
      "text/plain": [
       "0.8196118757837627"
      ]
     },
     "execution_count": 72,
     "metadata": {},
     "output_type": "execute_result"
    }
   ],
   "source": [
    "r2_score(df['Chance of Admit'],df['predict']) #500 rows are taken into consideration"
   ]
  },
  {
   "cell_type": "code",
   "execution_count": 73,
   "id": "b5bc6f90",
   "metadata": {},
   "outputs": [],
   "source": [
    "import pickle\n",
    "with open('withoutscale','wb') as f:\n",
    "    pickle.dump(model,f)"
   ]
  },
  {
   "cell_type": "code",
   "execution_count": 74,
   "id": "d72455fb",
   "metadata": {},
   "outputs": [],
   "source": [
    "with open('withoutscale','rb') as f:\n",
    "    ob=pickle.load(f)"
   ]
  },
  {
   "cell_type": "code",
   "execution_count": 75,
   "id": "57f6ca13",
   "metadata": {},
   "outputs": [
    {
     "data": {
      "text/plain": [
       "array([0.51961845, 0.92641531, 0.65268603, 0.45367794, 0.7261045 ,\n",
       "       0.56157264, 0.64399746, 0.6717782 , 0.88462116, 0.5386425 ,\n",
       "       0.86532148, 0.79615794, 0.87876975, 0.65391022, 0.82981008,\n",
       "       0.83628496, 0.59987779, 0.67211946, 0.71566626, 0.62522037,\n",
       "       0.58785288, 0.84607886, 0.91014103, 0.47815708, 0.7278715 ,\n",
       "       0.65237293, 0.82712003, 0.6359292 , 0.72587529, 0.75234061,\n",
       "       0.51252159, 0.94506612, 0.6755415 , 0.61353761, 0.69275363,\n",
       "       0.63490871, 0.79588503, 0.79721814, 0.60981385, 0.70015986,\n",
       "       0.80420222, 0.76643529, 0.67653552, 0.69393134, 0.57781969,\n",
       "       0.85616644, 0.57673715, 0.69877244, 0.78172433, 0.55107767,\n",
       "       0.69755156, 0.71843697, 0.53309299, 0.68272674, 0.71027383,\n",
       "       0.64046325, 0.69857504, 0.53228787, 0.50208129, 0.89510618,\n",
       "       0.56678189, 0.51766808, 0.81335433, 0.84772852, 0.70645241,\n",
       "       0.59739162, 0.79918831, 0.6033345 , 0.59393044, 0.71228864,\n",
       "       0.62009763, 0.74220017, 0.65059942, 0.54180481, 0.69289808,\n",
       "       0.78605045, 0.68977863, 0.7817116 , 0.7498008 , 0.80616023,\n",
       "       0.65391328, 0.79059829, 0.69873697, 0.73265046, 0.63308529,\n",
       "       0.62882552, 0.68481036, 0.79769632, 0.60427058, 0.6703752 ,\n",
       "       0.74487478, 0.65683551, 0.55460481, 0.52311027, 0.81490357,\n",
       "       0.61383132, 0.89024038, 0.91269893, 0.5198916 , 0.74181434,\n",
       "       0.96295894, 0.85385368, 0.93056326, 0.90533349, 0.69031574,\n",
       "       0.77902933, 0.78066764, 0.80183888, 0.95576673, 0.81458717,\n",
       "       0.93509499, 0.58413051, 0.65581446, 0.68061   , 0.53752307,\n",
       "       0.72495185, 0.65202839, 0.73802508, 0.82542323, 0.53646092,\n",
       "       0.58777639, 0.64386921, 0.58840058, 0.79164857, 0.7738536 ,\n",
       "       0.71841814, 0.61966923, 0.53716789, 0.60427891, 0.77541631,\n",
       "       0.49345006, 0.70690267, 0.9495861 , 0.84703837, 0.68757664,\n",
       "       0.86004672, 0.62042948, 0.73800351, 0.77971079, 0.70411948,\n",
       "       0.73488476, 0.92387808, 0.85966612, 0.9598592 , 0.642449  ,\n",
       "       0.60435956, 0.90478501, 0.65873886, 0.68831223, 0.80430579,\n",
       "       0.61857437, 0.77987437, 0.90657626, 0.69171691, 0.73576347,\n",
       "       0.74172153, 0.81896514, 0.62385016, 0.73119503, 0.97149901,\n",
       "       0.73698156, 0.47700546, 0.63267862, 0.69806342, 0.6086156 ,\n",
       "       0.61636146, 0.87702098, 0.65564053, 0.50058106, 0.53749633,\n",
       "       0.88449085, 0.44475875, 0.91273719, 0.75834913, 0.93501517,\n",
       "       0.50967371, 0.68584035, 0.87579859, 0.63702902, 0.57595507,\n",
       "       0.59982695, 0.89769393, 0.41758638, 0.6008331 , 0.62862073,\n",
       "       0.69954167, 0.84798982, 0.47547426, 0.85132809, 0.51723008,\n",
       "       0.71928649, 0.69975163, 0.63554363, 0.91202616, 0.54074129,\n",
       "       0.55867317, 0.64830894, 0.88406249, 0.99381595, 0.78862038,\n",
       "       0.71086001, 0.57338999, 0.58373842, 0.9537144 , 0.97017664,\n",
       "       0.72831293, 0.47107692, 0.90884976, 0.78103569, 0.5554999 ,\n",
       "       0.7738543 , 0.67390709, 0.66210339, 0.76767319, 0.65282188,\n",
       "       0.73018161, 0.84883707, 0.63106428, 0.64104271, 0.93374277,\n",
       "       0.72406491, 0.78933265, 0.51838375, 0.84423417, 0.76449578,\n",
       "       0.79805799, 0.82357107, 0.74909876, 0.92154518, 0.75387668,\n",
       "       0.56402907, 0.95252412, 0.84767216, 0.55366133, 0.51024435,\n",
       "       0.58406316, 0.79386409, 0.64785745, 0.87554604, 0.70553619,\n",
       "       0.99595718, 0.91751656, 0.64742957, 0.81432696, 0.59208989,\n",
       "       0.49010575, 0.79717492, 0.593962  , 0.77291666, 0.9402699 ,\n",
       "       0.62616251, 0.87578499, 0.63781564, 0.77076177, 0.83512585,\n",
       "       0.82666617, 0.89625642, 0.78951176, 0.80769391, 0.60885948,\n",
       "       0.74915879, 0.8872468 , 0.72172712, 0.88827759, 0.68669416,\n",
       "       0.54516606, 0.75841831, 0.56832462, 0.47975622, 0.82762806,\n",
       "       0.7115606 , 0.5254189 , 0.66520146, 0.72145279, 0.69091595,\n",
       "       0.83690056, 0.84523238, 0.88561959, 0.68411422, 0.74023413,\n",
       "       0.73443989, 0.99378633, 0.56283672, 0.58889494, 0.96390748,\n",
       "       0.55871896, 0.68648958, 0.8567311 , 0.6874443 , 0.7855574 ,\n",
       "       0.66318398, 0.73092651, 0.72141096, 0.76997944, 0.6898791 ,\n",
       "       0.82954843, 0.86133758, 0.82653547, 0.69164388, 0.92473738,\n",
       "       0.66874974, 0.87762556, 0.79644874, 0.86764694, 0.59290209,\n",
       "       0.68438049, 0.61253292, 0.65984224, 0.77364559, 0.86220934,\n",
       "       0.63548412, 0.79068701, 0.64582775, 0.61356227, 0.91278057,\n",
       "       0.76365462, 0.92005006, 0.78171493, 0.90604648, 0.83751074,\n",
       "       0.80639747, 0.5345866 , 0.53245191, 0.85390203, 0.64113122,\n",
       "       0.87133135, 0.52214903, 0.62021347, 0.59459812, 0.46548138,\n",
       "       0.81830891, 0.52995413, 0.625521  , 0.71484306, 0.90882796,\n",
       "       1.00435486, 0.59121875, 0.70390235, 0.56178362, 0.77932324,\n",
       "       0.76500931, 0.65893185, 0.85426083, 0.6760848 , 0.60322798,\n",
       "       0.91011089, 0.72198033, 0.64167997, 0.70686974, 0.65008392,\n",
       "       0.79621955, 0.86652303, 0.56086234, 0.78291546, 0.8339856 ,\n",
       "       0.8472352 , 0.56205335, 0.73354614, 0.52308082, 0.81610809,\n",
       "       0.73403145, 0.73313115, 0.79042779, 0.82714574, 0.8843882 ,\n",
       "       0.7188105 , 0.6567632 , 0.56101016, 0.66126818, 0.69078933,\n",
       "       0.62357758, 0.54455132, 0.51364995, 0.97077025, 0.8336189 ])"
      ]
     },
     "execution_count": 75,
     "metadata": {},
     "output_type": "execute_result"
    }
   ],
   "source": [
    "ob.predict(x_train)"
   ]
  },
  {
   "cell_type": "code",
   "execution_count": 76,
   "id": "e7641ff6",
   "metadata": {},
   "outputs": [
    {
     "data": {
      "text/plain": [
       "array([0.00210724, 0.0018642 , 0.00382886, 0.00144171, 0.0160296 ,\n",
       "       0.13047543, 0.01990266])"
      ]
     },
     "execution_count": 76,
     "metadata": {},
     "output_type": "execute_result"
    }
   ],
   "source": [
    "model.coef_"
   ]
  },
  {
   "cell_type": "code",
   "execution_count": 77,
   "id": "baf5c2b6",
   "metadata": {},
   "outputs": [
    {
     "data": {
      "text/plain": [
       "-1.3464908093891008"
      ]
     },
     "execution_count": 77,
     "metadata": {},
     "output_type": "execute_result"
    }
   ],
   "source": [
    "model.intercept_"
   ]
  },
  {
   "cell_type": "code",
   "execution_count": 78,
   "id": "ea198f06",
   "metadata": {},
   "outputs": [
    {
     "data": {
      "text/html": [
       "<div>\n",
       "<style scoped>\n",
       "    .dataframe tbody tr th:only-of-type {\n",
       "        vertical-align: middle;\n",
       "    }\n",
       "\n",
       "    .dataframe tbody tr th {\n",
       "        vertical-align: top;\n",
       "    }\n",
       "\n",
       "    .dataframe thead th {\n",
       "        text-align: right;\n",
       "    }\n",
       "</style>\n",
       "<table border=\"1\" class=\"dataframe\">\n",
       "  <thead>\n",
       "    <tr style=\"text-align: right;\">\n",
       "      <th></th>\n",
       "      <th>GRE Score</th>\n",
       "      <th>TOEFL Score</th>\n",
       "      <th>University Rating</th>\n",
       "      <th>SOP</th>\n",
       "      <th>LOR</th>\n",
       "      <th>CGPA</th>\n",
       "      <th>Research</th>\n",
       "      <th>Chance of Admit</th>\n",
       "      <th>predict</th>\n",
       "    </tr>\n",
       "  </thead>\n",
       "  <tbody>\n",
       "    <tr>\n",
       "      <th>0</th>\n",
       "      <td>337.000000</td>\n",
       "      <td>118.0</td>\n",
       "      <td>4.0</td>\n",
       "      <td>4.5</td>\n",
       "      <td>4.5</td>\n",
       "      <td>9.65</td>\n",
       "      <td>1</td>\n",
       "      <td>0.92</td>\n",
       "      <td>0.956552</td>\n",
       "    </tr>\n",
       "    <tr>\n",
       "      <th>1</th>\n",
       "      <td>324.000000</td>\n",
       "      <td>107.0</td>\n",
       "      <td>4.0</td>\n",
       "      <td>4.0</td>\n",
       "      <td>4.5</td>\n",
       "      <td>8.87</td>\n",
       "      <td>1</td>\n",
       "      <td>0.76</td>\n",
       "      <td>0.806160</td>\n",
       "    </tr>\n",
       "    <tr>\n",
       "      <th>2</th>\n",
       "      <td>316.558763</td>\n",
       "      <td>104.0</td>\n",
       "      <td>3.0</td>\n",
       "      <td>3.0</td>\n",
       "      <td>3.5</td>\n",
       "      <td>8.00</td>\n",
       "      <td>1</td>\n",
       "      <td>0.72</td>\n",
       "      <td>0.650073</td>\n",
       "    </tr>\n",
       "    <tr>\n",
       "      <th>3</th>\n",
       "      <td>322.000000</td>\n",
       "      <td>110.0</td>\n",
       "      <td>3.0</td>\n",
       "      <td>3.5</td>\n",
       "      <td>2.5</td>\n",
       "      <td>8.67</td>\n",
       "      <td>1</td>\n",
       "      <td>0.80</td>\n",
       "      <td>0.744834</td>\n",
       "    </tr>\n",
       "    <tr>\n",
       "      <th>4</th>\n",
       "      <td>314.000000</td>\n",
       "      <td>103.0</td>\n",
       "      <td>2.0</td>\n",
       "      <td>2.0</td>\n",
       "      <td>3.0</td>\n",
       "      <td>8.21</td>\n",
       "      <td>0</td>\n",
       "      <td>0.65</td>\n",
       "      <td>0.637029</td>\n",
       "    </tr>\n",
       "    <tr>\n",
       "      <th>...</th>\n",
       "      <td>...</td>\n",
       "      <td>...</td>\n",
       "      <td>...</td>\n",
       "      <td>...</td>\n",
       "      <td>...</td>\n",
       "      <td>...</td>\n",
       "      <td>...</td>\n",
       "      <td>...</td>\n",
       "      <td>...</td>\n",
       "    </tr>\n",
       "    <tr>\n",
       "      <th>495</th>\n",
       "      <td>332.000000</td>\n",
       "      <td>108.0</td>\n",
       "      <td>5.0</td>\n",
       "      <td>4.5</td>\n",
       "      <td>4.0</td>\n",
       "      <td>9.02</td>\n",
       "      <td>1</td>\n",
       "      <td>0.87</td>\n",
       "      <td>0.840989</td>\n",
       "    </tr>\n",
       "    <tr>\n",
       "      <th>496</th>\n",
       "      <td>337.000000</td>\n",
       "      <td>117.0</td>\n",
       "      <td>5.0</td>\n",
       "      <td>5.0</td>\n",
       "      <td>5.0</td>\n",
       "      <td>9.87</td>\n",
       "      <td>1</td>\n",
       "      <td>0.96</td>\n",
       "      <td>0.995957</td>\n",
       "    </tr>\n",
       "    <tr>\n",
       "      <th>497</th>\n",
       "      <td>330.000000</td>\n",
       "      <td>120.0</td>\n",
       "      <td>5.0</td>\n",
       "      <td>4.5</td>\n",
       "      <td>5.0</td>\n",
       "      <td>9.56</td>\n",
       "      <td>1</td>\n",
       "      <td>0.93</td>\n",
       "      <td>0.945631</td>\n",
       "    </tr>\n",
       "    <tr>\n",
       "      <th>498</th>\n",
       "      <td>312.000000</td>\n",
       "      <td>103.0</td>\n",
       "      <td>4.0</td>\n",
       "      <td>4.0</td>\n",
       "      <td>5.0</td>\n",
       "      <td>8.43</td>\n",
       "      <td>0</td>\n",
       "      <td>0.73</td>\n",
       "      <td>0.704119</td>\n",
       "    </tr>\n",
       "    <tr>\n",
       "      <th>499</th>\n",
       "      <td>327.000000</td>\n",
       "      <td>113.0</td>\n",
       "      <td>4.0</td>\n",
       "      <td>4.5</td>\n",
       "      <td>4.5</td>\n",
       "      <td>9.04</td>\n",
       "      <td>0</td>\n",
       "      <td>0.84</td>\n",
       "      <td>0.826666</td>\n",
       "    </tr>\n",
       "  </tbody>\n",
       "</table>\n",
       "<p>500 rows × 9 columns</p>\n",
       "</div>"
      ],
      "text/plain": [
       "      GRE Score  TOEFL Score  University Rating  SOP  LOR  CGPA  Research  \\\n",
       "0    337.000000        118.0                4.0  4.5  4.5  9.65         1   \n",
       "1    324.000000        107.0                4.0  4.0  4.5  8.87         1   \n",
       "2    316.558763        104.0                3.0  3.0  3.5  8.00         1   \n",
       "3    322.000000        110.0                3.0  3.5  2.5  8.67         1   \n",
       "4    314.000000        103.0                2.0  2.0  3.0  8.21         0   \n",
       "..          ...          ...                ...  ...  ...   ...       ...   \n",
       "495  332.000000        108.0                5.0  4.5  4.0  9.02         1   \n",
       "496  337.000000        117.0                5.0  5.0  5.0  9.87         1   \n",
       "497  330.000000        120.0                5.0  4.5  5.0  9.56         1   \n",
       "498  312.000000        103.0                4.0  4.0  5.0  8.43         0   \n",
       "499  327.000000        113.0                4.0  4.5  4.5  9.04         0   \n",
       "\n",
       "     Chance of Admit   predict  \n",
       "0               0.92  0.956552  \n",
       "1               0.76  0.806160  \n",
       "2               0.72  0.650073  \n",
       "3               0.80  0.744834  \n",
       "4               0.65  0.637029  \n",
       "..               ...       ...  \n",
       "495             0.87  0.840989  \n",
       "496             0.96  0.995957  \n",
       "497             0.93  0.945631  \n",
       "498             0.73  0.704119  \n",
       "499             0.84  0.826666  \n",
       "\n",
       "[500 rows x 9 columns]"
      ]
     },
     "execution_count": 78,
     "metadata": {},
     "output_type": "execute_result"
    }
   ],
   "source": [
    "df"
   ]
  },
  {
   "cell_type": "code",
   "execution_count": 79,
   "id": "d851aee6",
   "metadata": {},
   "outputs": [
    {
     "data": {
      "text/plain": [
       "array([[295.        ,  93.        ,   1.        ,   2.        ,\n",
       "          2.        ,   7.2       ,   0.        ],\n",
       "       [324.        , 110.        ,   4.        ,   4.5       ,\n",
       "          4.        ,   9.15      ,   1.        ],\n",
       "       [308.        , 106.        ,   3.        ,   3.        ,\n",
       "          3.        ,   8.24      ,   0.        ],\n",
       "       [328.        , 108.        ,   4.        ,   4.5       ,\n",
       "          4.        ,   9.18      ,   1.        ],\n",
       "       [338.        , 120.        ,   4.        ,   5.        ,\n",
       "          5.        ,   9.66      ,   1.        ],\n",
       "       [317.        , 100.        ,   2.        ,   3.        ,\n",
       "          2.5       ,   8.57      ,   0.        ],\n",
       "       [313.        , 102.        ,   3.        ,   2.        ,\n",
       "          3.        ,   8.27      ,   0.        ],\n",
       "       [295.        ,  99.        ,   2.        ,   2.5       ,\n",
       "          3.        ,   7.65      ,   0.        ],\n",
       "       [316.        , 101.        ,   2.        ,   2.5       ,\n",
       "          2.        ,   8.32      ,   1.        ],\n",
       "       [299.        ,  94.        ,   1.        ,   1.        ,\n",
       "          1.        ,   7.34      ,   0.        ],\n",
       "       [317.        , 110.        ,   3.        ,   4.        ,\n",
       "          4.5       ,   9.11      ,   1.        ],\n",
       "       [317.        , 106.        ,   1.        ,   1.5       ,\n",
       "          3.5       ,   7.65      ,   1.        ],\n",
       "       [320.        , 112.        ,   2.        ,   3.5       ,\n",
       "          3.5       ,   8.78      ,   1.        ],\n",
       "       [315.        , 107.        ,   2.        ,   4.        ,\n",
       "          3.        ,   8.5       ,   1.        ],\n",
       "       [311.        , 106.        ,   2.        ,   3.5       ,\n",
       "          3.        ,   8.26      ,   1.        ],\n",
       "       [312.        , 105.        ,   2.        ,   1.5       ,\n",
       "          3.        ,   8.46      ,   0.        ],\n",
       "       [319.        , 103.        ,   3.        ,   2.5       ,\n",
       "          4.        ,   8.76      ,   1.        ],\n",
       "       [301.        , 107.        ,   3.        ,   3.5       ,\n",
       "          3.5       ,   8.34      ,   1.        ],\n",
       "       [312.        ,  99.        ,   1.        ,   1.        ,\n",
       "          1.5       ,   8.01      ,   1.        ],\n",
       "       [324.        , 110.        ,   3.        ,   3.5       ,\n",
       "          3.        ,   9.22      ,   1.        ],\n",
       "       [314.        , 107.        ,   3.        ,   3.        ,\n",
       "          3.5       ,   8.17      ,   1.        ],\n",
       "       [332.        , 112.        ,   1.        ,   1.5       ,\n",
       "          3.        ,   8.66      ,   1.        ],\n",
       "       [326.        , 112.        ,   3.        ,   3.5       ,\n",
       "          3.        ,   9.1       ,   1.        ],\n",
       "       [300.        ,  99.        ,   1.        ,   1.        ,\n",
       "          2.5       ,   8.01      ,   0.        ],\n",
       "       [306.        , 100.        ,   2.        ,   3.        ,\n",
       "          3.        ,   8.        ,   0.        ],\n",
       "       [308.        , 109.        ,   2.        ,   3.        ,\n",
       "          4.        ,   8.45      ,   0.        ],\n",
       "       [310.        ,  99.        ,   2.        ,   1.5       ,\n",
       "          2.        ,   7.3       ,   0.        ],\n",
       "       [315.        , 101.        ,   3.        ,   3.5       ,\n",
       "          4.5       ,   9.13      ,   0.        ],\n",
       "       [324.        , 112.        ,   4.        ,   4.        ,\n",
       "          3.5       ,   8.77      ,   1.        ],\n",
       "       [323.        , 110.        ,   3.        ,   4.        ,\n",
       "          3.5       ,   9.1       ,   1.        ],\n",
       "       [312.        , 103.        ,   3.        ,   3.5       ,\n",
       "          4.        ,   8.78      ,   0.        ],\n",
       "       [340.        , 113.        ,   4.        ,   5.        ,\n",
       "          5.        ,   9.74      ,   1.        ],\n",
       "       [330.        , 120.        ,   5.        ,   4.5       ,\n",
       "          5.        ,   9.56      ,   1.        ],\n",
       "       [323.        , 108.        ,   3.        ,   3.5       ,\n",
       "          3.        ,   8.6       ,   0.        ],\n",
       "       [324.        , 115.        ,   3.        ,   3.5       ,\n",
       "          3.        ,   8.76      ,   1.        ],\n",
       "       [316.        , 105.        ,   2.        ,   2.5       ,\n",
       "          2.5       ,   8.2       ,   1.        ],\n",
       "       [327.        , 113.        ,   4.        ,   4.5       ,\n",
       "          4.5       ,   9.11      ,   1.        ],\n",
       "       [325.        , 106.        ,   3.        ,   3.5       ,\n",
       "          4.        ,   8.4       ,   1.        ],\n",
       "       [319.        , 102.        ,   3.        ,   2.5       ,\n",
       "          2.5       ,   8.37      ,   0.        ],\n",
       "       [300.        , 100.        ,   3.        ,   3.        ,\n",
       "          3.5       ,   8.26      ,   0.        ],\n",
       "       [304.        , 105.        ,   2.        ,   3.        ,\n",
       "          3.        ,   8.2       ,   1.        ],\n",
       "       [311.        , 105.        ,   2.        ,   3.        ,\n",
       "          2.        ,   8.12      ,   1.        ],\n",
       "       [308.        , 107.1877551 ,   4.        ,   4.5       ,\n",
       "          5.        ,   8.34      ,   0.        ],\n",
       "       [303.        , 100.        ,   2.        ,   3.        ,\n",
       "          3.5       ,   8.06      ,   1.        ],\n",
       "       [301.        ,  99.        ,   3.        ,   2.5       ,\n",
       "          2.        ,   8.45      ,   1.        ],\n",
       "       [324.        , 112.        ,   4.        ,   4.        ,\n",
       "          2.5       ,   8.1       ,   1.        ],\n",
       "       [308.        , 101.        ,   2.        ,   3.        ,\n",
       "          4.        ,   7.9       ,   0.        ],\n",
       "       [322.        , 109.        ,   5.        ,   4.5       ,\n",
       "          3.5       ,   8.8       ,   0.        ],\n",
       "       [316.        ,  99.        ,   2.        ,   2.5       ,\n",
       "          3.        ,   9.        ,   0.        ],\n",
       "       [301.        , 102.        ,   3.        ,   2.5       ,\n",
       "          2.        ,   8.13      ,   1.        ],\n",
       "       [314.        , 107.        ,   2.        ,   2.5       ,\n",
       "          4.        ,   8.27      ,   0.        ],\n",
       "       [316.55876289, 108.        ,   5.        ,   4.        ,\n",
       "          4.        ,   8.74      ,   1.        ],\n",
       "       [305.        , 107.        ,   2.        ,   2.5       ,\n",
       "          2.5       ,   8.42      ,   0.        ],\n",
       "       [328.        , 116.        ,   5.        ,   5.        ,\n",
       "          5.        ,   9.5       ,   1.        ],\n",
       "       [308.        , 108.        ,   3.        ,   3.5       ,\n",
       "          3.5       ,   8.22      ,   0.        ],\n",
       "       [321.        , 110.        ,   3.        ,   3.5       ,\n",
       "          5.        ,   8.85      ,   1.        ],\n",
       "       [304.        , 105.        ,   1.        ,   3.        ,\n",
       "          1.5       ,   7.5       ,   0.        ],\n",
       "       [331.        , 120.        ,   3.        ,   4.        ,\n",
       "          4.        ,   8.96      ,   1.        ],\n",
       "       [314.        ,  99.        ,   4.        ,   3.5       ,\n",
       "          4.5       ,   8.73      ,   1.        ],\n",
       "       [302.        ,  99.        ,   1.        ,   2.        ,\n",
       "          2.        ,   7.25      ,   0.        ],\n",
       "       [325.        , 112.        ,   4.        ,   3.5       ,\n",
       "          3.5       ,   8.92      ,   0.        ],\n",
       "       [315.        , 103.        ,   1.        ,   1.5       ,\n",
       "          2.        ,   7.86      ,   0.        ],\n",
       "       [324.        , 105.        ,   3.        ,   3.        ,\n",
       "          4.        ,   8.75      ,   0.        ],\n",
       "       [314.        , 108.        ,   3.        ,   4.5       ,\n",
       "          3.5       ,   8.14      ,   0.        ],\n",
       "       [308.        , 105.        ,   4.        ,   3.        ,\n",
       "          2.5       ,   7.95      ,   1.        ],\n",
       "       [336.        , 119.        ,   4.        ,   4.5       ,\n",
       "          4.        ,   9.62      ,   1.        ],\n",
       "       [307.        , 101.        ,   3.        ,   4.        ,\n",
       "          3.        ,   8.2       ,   0.        ],\n",
       "       [316.        , 106.        ,   2.        ,   2.5       ,\n",
       "          4.        ,   8.32      ,   0.        ],\n",
       "       [329.        , 111.        ,   4.        ,   4.5       ,\n",
       "          4.        ,   9.23      ,   1.        ],\n",
       "       [311.        , 104.        ,   2.        ,   2.        ,\n",
       "          2.        ,   8.3       ,   0.        ],\n",
       "       [337.        , 118.        ,   4.        ,   4.5       ,\n",
       "          4.5       ,   9.65      ,   1.        ],\n",
       "       [335.        , 115.        ,   4.        ,   4.5       ,\n",
       "          4.5       ,   9.68      ,   1.        ],\n",
       "       [318.        , 109.        ,   3.        ,   3.5       ,\n",
       "          4.        ,   9.22      ,   1.        ],\n",
       "       [303.        ,  99.        ,   3.        ,   2.        ,\n",
       "          2.5       ,   7.66      ,   0.        ],\n",
       "       [309.        , 104.        ,   2.        ,   2.        ,\n",
       "          2.5       ,   8.26      ,   0.        ],\n",
       "       [331.        , 112.        ,   5.        ,   4.        ,\n",
       "          5.        ,   9.8       ,   1.        ],\n",
       "       [314.        , 105.        ,   3.        ,   3.5       ,\n",
       "          2.5       ,   8.3       ,   0.        ],\n",
       "       [324.        , 114.        ,   5.        ,   5.        ,\n",
       "          4.5       ,   9.08      ,   1.        ],\n",
       "       [319.        , 105.        ,   3.        ,   3.        ,\n",
       "          3.5       ,   8.67      ,   1.        ],\n",
       "       [321.        , 110.        ,   4.        ,   3.5       ,\n",
       "          4.        ,   8.35      ,   1.        ],\n",
       "       [321.        , 109.        ,   3.        ,   3.        ,\n",
       "          4.        ,   8.2       ,   1.        ],\n",
       "       [316.55876289, 109.        ,   3.        ,   3.        ,\n",
       "          3.        ,   8.69      ,   0.        ],\n",
       "       [322.        , 110.        ,   3.        ,   3.5       ,\n",
       "          2.5       ,   8.67      ,   1.        ],\n",
       "       [302.        , 102.        ,   3.        ,   3.5       ,\n",
       "          5.        ,   8.33      ,   0.        ],\n",
       "       [335.        , 117.        ,   5.        ,   5.        ,\n",
       "          5.        ,   9.56      ,   1.        ],\n",
       "       [312.        , 107.        ,   3.        ,   3.        ,\n",
       "          2.        ,   7.9       ,   1.        ],\n",
       "       [324.        , 100.        ,   3.        ,   4.        ,\n",
       "          5.        ,   8.64      ,   1.        ],\n",
       "       [305.        ,  96.        ,   4.        ,   3.        ,\n",
       "          4.5       ,   8.26      ,   0.        ],\n",
       "       [340.        , 115.        ,   5.        ,   5.        ,\n",
       "          4.5       ,   9.06      ,   1.        ],\n",
       "       [316.        , 109.        ,   4.        ,   4.5       ,\n",
       "          3.5       ,   8.76      ,   1.        ],\n",
       "       [312.        , 106.        ,   3.        ,   4.        ,\n",
       "          3.5       ,   8.79      ,   1.        ],\n",
       "       [335.        , 117.        ,   5.        ,   5.        ,\n",
       "          5.        ,   9.82      ,   1.        ],\n",
       "       [326.        , 116.        ,   3.        ,   3.5       ,\n",
       "          4.        ,   9.14      ,   1.        ],\n",
       "       [309.        , 100.        ,   2.        ,   3.        ,\n",
       "          3.        ,   8.1       ,   0.        ],\n",
       "       [316.55876289, 105.        ,   2.        ,   3.        ,\n",
       "          3.5       ,   8.01      ,   0.        ],\n",
       "       [322.        , 114.        ,   5.        ,   4.5       ,\n",
       "          4.        ,   8.94      ,   1.        ],\n",
       "       [332.        , 117.        ,   4.        ,   4.5       ,\n",
       "          4.        ,   9.1       ,   0.        ],\n",
       "       [340.        , 114.        ,   5.        ,   4.        ,\n",
       "          4.        ,   9.6       ,   1.        ],\n",
       "       [330.        , 113.        ,   5.        ,   5.        ,\n",
       "          4.        ,   9.31      ,   1.        ],\n",
       "       [323.        , 107.        ,   4.        ,   3.        ,\n",
       "          2.5       ,   8.48      ,   1.        ],\n",
       "       [329.        , 114.        ,   2.        ,   2.        ,\n",
       "          4.        ,   8.56      ,   1.        ],\n",
       "       [307.        , 102.        ,   3.        ,   3.        ,\n",
       "          3.        ,   8.27      ,   0.        ],\n",
       "       [320.        , 113.        ,   2.        ,   2.        ,\n",
       "          2.5       ,   8.64      ,   1.        ],\n",
       "       [316.55876289, 104.        ,   3.        ,   3.        ,\n",
       "          3.5       ,   8.        ,   1.        ],\n",
       "       [325.        , 107.        ,   3.        ,   3.        ,\n",
       "          3.5       ,   9.11      ,   1.        ],\n",
       "       [315.        , 104.        ,   3.        ,   4.        ,\n",
       "          2.5       ,   8.1       ,   0.        ],\n",
       "       [321.        , 111.        ,   3.        ,   2.5       ,\n",
       "          3.        ,   8.9       ,   1.        ],\n",
       "       [334.        , 116.        ,   4.        ,   4.        ,\n",
       "          3.5       ,   9.54      ,   1.        ],\n",
       "       [321.        , 109.        ,   4.        ,   4.        ,\n",
       "          4.        ,   9.13      ,   1.        ],\n",
       "       [312.        , 106.        ,   3.        ,   3.        ,\n",
       "          5.        ,   8.57      ,   0.        ],\n",
       "       [323.        , 110.        ,   5.        ,   4.        ,\n",
       "          5.        ,   8.98      ,   1.        ],\n",
       "       [313.        , 109.        ,   3.        ,   4.        ,\n",
       "          3.5       ,   9.        ,   0.        ],\n",
       "       [323.        , 104.        ,   3.        ,   4.        ,\n",
       "          4.        ,   8.44      ,   1.        ],\n",
       "       [321.        , 114.        ,   5.        ,   4.5       ,\n",
       "          4.5       ,   9.16      ,   1.        ],\n",
       "       [319.        , 108.        ,   2.        ,   2.5       ,\n",
       "          3.        ,   8.76      ,   0.        ],\n",
       "       [322.        , 112.        ,   3.        ,   3.        ,\n",
       "          4.        ,   8.62      ,   1.        ],\n",
       "       [336.        , 118.        ,   5.        ,   4.5       ,\n",
       "          5.        ,   9.53      ,   1.        ],\n",
       "       [332.        , 108.        ,   5.        ,   4.5       ,\n",
       "          4.        ,   9.02      ,   1.        ],\n",
       "       [300.        , 102.        ,   3.        ,   3.5       ,\n",
       "          2.5       ,   8.17      ,   0.        ],\n",
       "       [310.        , 107.        ,   3.        ,   3.5       ,\n",
       "          3.5       ,   8.67      ,   0.        ],\n",
       "       [331.        , 115.        ,   5.        ,   4.        ,\n",
       "          3.5       ,   9.44      ,   1.        ],\n",
       "       [327.        , 118.        ,   4.        ,   5.        ,\n",
       "          5.        ,   9.67      ,   1.        ],\n",
       "       [313.        ,  94.        ,   2.        ,   2.5       ,\n",
       "          1.5       ,   8.13      ,   0.        ],\n",
       "       [321.        , 111.        ,   4.        ,   4.        ,\n",
       "          4.        ,   8.97      ,   1.        ],\n",
       "       [313.        , 103.        ,   3.        ,   4.        ,\n",
       "          4.        ,   8.75      ,   0.        ]])"
      ]
     },
     "execution_count": 79,
     "metadata": {},
     "output_type": "execute_result"
    }
   ],
   "source": [
    "x_test"
   ]
  },
  {
   "cell_type": "code",
   "execution_count": 82,
   "id": "85472424",
   "metadata": {},
   "outputs": [
    {
     "data": {
      "text/plain": [
       "Index(['GRE Score', 'TOEFL Score', 'University Rating', 'SOP', 'LOR', 'CGPA',\n",
       "       'Research', 'Chance of Admit', 'predict'],\n",
       "      dtype='object')"
      ]
     },
     "execution_count": 82,
     "metadata": {},
     "output_type": "execute_result"
    }
   ],
   "source": [
    "df.columns"
   ]
  },
  {
   "cell_type": "code",
   "execution_count": 87,
   "id": "0ebff3e8",
   "metadata": {},
   "outputs": [
    {
     "data": {
      "text/html": [
       "<div>\n",
       "<style scoped>\n",
       "    .dataframe tbody tr th:only-of-type {\n",
       "        vertical-align: middle;\n",
       "    }\n",
       "\n",
       "    .dataframe tbody tr th {\n",
       "        vertical-align: top;\n",
       "    }\n",
       "\n",
       "    .dataframe thead tr th {\n",
       "        text-align: left;\n",
       "    }\n",
       "</style>\n",
       "<table border=\"1\" class=\"dataframe\">\n",
       "  <thead>\n",
       "    <tr>\n",
       "      <th></th>\n",
       "      <th>GRE Score</th>\n",
       "      <th>TOEFL Score</th>\n",
       "      <th>University Rating</th>\n",
       "      <th>SOP</th>\n",
       "      <th>LOR</th>\n",
       "      <th>CGPA</th>\n",
       "      <th>Research</th>\n",
       "    </tr>\n",
       "  </thead>\n",
       "  <tbody>\n",
       "    <tr>\n",
       "      <th>0</th>\n",
       "      <td>295.0</td>\n",
       "      <td>93.0</td>\n",
       "      <td>1.0</td>\n",
       "      <td>2.0</td>\n",
       "      <td>2.0</td>\n",
       "      <td>7.20</td>\n",
       "      <td>0.0</td>\n",
       "    </tr>\n",
       "    <tr>\n",
       "      <th>1</th>\n",
       "      <td>324.0</td>\n",
       "      <td>110.0</td>\n",
       "      <td>4.0</td>\n",
       "      <td>4.5</td>\n",
       "      <td>4.0</td>\n",
       "      <td>9.15</td>\n",
       "      <td>1.0</td>\n",
       "    </tr>\n",
       "    <tr>\n",
       "      <th>2</th>\n",
       "      <td>308.0</td>\n",
       "      <td>106.0</td>\n",
       "      <td>3.0</td>\n",
       "      <td>3.0</td>\n",
       "      <td>3.0</td>\n",
       "      <td>8.24</td>\n",
       "      <td>0.0</td>\n",
       "    </tr>\n",
       "    <tr>\n",
       "      <th>3</th>\n",
       "      <td>328.0</td>\n",
       "      <td>108.0</td>\n",
       "      <td>4.0</td>\n",
       "      <td>4.5</td>\n",
       "      <td>4.0</td>\n",
       "      <td>9.18</td>\n",
       "      <td>1.0</td>\n",
       "    </tr>\n",
       "    <tr>\n",
       "      <th>4</th>\n",
       "      <td>338.0</td>\n",
       "      <td>120.0</td>\n",
       "      <td>4.0</td>\n",
       "      <td>5.0</td>\n",
       "      <td>5.0</td>\n",
       "      <td>9.66</td>\n",
       "      <td>1.0</td>\n",
       "    </tr>\n",
       "    <tr>\n",
       "      <th>...</th>\n",
       "      <td>...</td>\n",
       "      <td>...</td>\n",
       "      <td>...</td>\n",
       "      <td>...</td>\n",
       "      <td>...</td>\n",
       "      <td>...</td>\n",
       "      <td>...</td>\n",
       "    </tr>\n",
       "    <tr>\n",
       "      <th>120</th>\n",
       "      <td>331.0</td>\n",
       "      <td>115.0</td>\n",
       "      <td>5.0</td>\n",
       "      <td>4.0</td>\n",
       "      <td>3.5</td>\n",
       "      <td>9.44</td>\n",
       "      <td>1.0</td>\n",
       "    </tr>\n",
       "    <tr>\n",
       "      <th>121</th>\n",
       "      <td>327.0</td>\n",
       "      <td>118.0</td>\n",
       "      <td>4.0</td>\n",
       "      <td>5.0</td>\n",
       "      <td>5.0</td>\n",
       "      <td>9.67</td>\n",
       "      <td>1.0</td>\n",
       "    </tr>\n",
       "    <tr>\n",
       "      <th>122</th>\n",
       "      <td>313.0</td>\n",
       "      <td>94.0</td>\n",
       "      <td>2.0</td>\n",
       "      <td>2.5</td>\n",
       "      <td>1.5</td>\n",
       "      <td>8.13</td>\n",
       "      <td>0.0</td>\n",
       "    </tr>\n",
       "    <tr>\n",
       "      <th>123</th>\n",
       "      <td>321.0</td>\n",
       "      <td>111.0</td>\n",
       "      <td>4.0</td>\n",
       "      <td>4.0</td>\n",
       "      <td>4.0</td>\n",
       "      <td>8.97</td>\n",
       "      <td>1.0</td>\n",
       "    </tr>\n",
       "    <tr>\n",
       "      <th>124</th>\n",
       "      <td>313.0</td>\n",
       "      <td>103.0</td>\n",
       "      <td>3.0</td>\n",
       "      <td>4.0</td>\n",
       "      <td>4.0</td>\n",
       "      <td>8.75</td>\n",
       "      <td>0.0</td>\n",
       "    </tr>\n",
       "  </tbody>\n",
       "</table>\n",
       "<p>125 rows × 7 columns</p>\n",
       "</div>"
      ],
      "text/plain": [
       "    GRE Score TOEFL Score University Rating  SOP  LOR  CGPA Research\n",
       "0       295.0        93.0               1.0  2.0  2.0  7.20      0.0\n",
       "1       324.0       110.0               4.0  4.5  4.0  9.15      1.0\n",
       "2       308.0       106.0               3.0  3.0  3.0  8.24      0.0\n",
       "3       328.0       108.0               4.0  4.5  4.0  9.18      1.0\n",
       "4       338.0       120.0               4.0  5.0  5.0  9.66      1.0\n",
       "..        ...         ...               ...  ...  ...   ...      ...\n",
       "120     331.0       115.0               5.0  4.0  3.5  9.44      1.0\n",
       "121     327.0       118.0               4.0  5.0  5.0  9.67      1.0\n",
       "122     313.0        94.0               2.0  2.5  1.5  8.13      0.0\n",
       "123     321.0       111.0               4.0  4.0  4.0  8.97      1.0\n",
       "124     313.0       103.0               3.0  4.0  4.0  8.75      0.0\n",
       "\n",
       "[125 rows x 7 columns]"
      ]
     },
     "execution_count": 87,
     "metadata": {},
     "output_type": "execute_result"
    }
   ],
   "source": [
    "test_data=pd.DataFrame(x_test,columns=[df.columns[0:7]])\n",
    "test_data"
   ]
  },
  {
   "cell_type": "code",
   "execution_count": null,
   "id": "03cef292",
   "metadata": {},
   "outputs": [],
   "source": [
    "test_data.to_csv('test.csv')"
   ]
  },
  {
   "cell_type": "markdown",
   "id": "bf4a835a",
   "metadata": {},
   "source": [
    "# CASE 2: without scaling the data"
   ]
  },
  {
   "cell_type": "code",
   "execution_count": 29,
   "id": "d8a029a1",
   "metadata": {},
   "outputs": [],
   "source": [
    "df.drop(columns='predict',inplace=True)"
   ]
  },
  {
   "cell_type": "code",
   "execution_count": 30,
   "id": "e2f5bff3",
   "metadata": {},
   "outputs": [
    {
     "data": {
      "text/html": [
       "<div>\n",
       "<style scoped>\n",
       "    .dataframe tbody tr th:only-of-type {\n",
       "        vertical-align: middle;\n",
       "    }\n",
       "\n",
       "    .dataframe tbody tr th {\n",
       "        vertical-align: top;\n",
       "    }\n",
       "\n",
       "    .dataframe thead th {\n",
       "        text-align: right;\n",
       "    }\n",
       "</style>\n",
       "<table border=\"1\" class=\"dataframe\">\n",
       "  <thead>\n",
       "    <tr style=\"text-align: right;\">\n",
       "      <th></th>\n",
       "      <th>GRE Score</th>\n",
       "      <th>TOEFL Score</th>\n",
       "      <th>University Rating</th>\n",
       "      <th>SOP</th>\n",
       "      <th>LOR</th>\n",
       "      <th>CGPA</th>\n",
       "      <th>Research</th>\n",
       "      <th>Chance of Admit</th>\n",
       "    </tr>\n",
       "  </thead>\n",
       "  <tbody>\n",
       "    <tr>\n",
       "      <th>0</th>\n",
       "      <td>337.000000</td>\n",
       "      <td>118.0</td>\n",
       "      <td>4.0</td>\n",
       "      <td>4.5</td>\n",
       "      <td>4.5</td>\n",
       "      <td>9.65</td>\n",
       "      <td>1</td>\n",
       "      <td>0.92</td>\n",
       "    </tr>\n",
       "    <tr>\n",
       "      <th>1</th>\n",
       "      <td>324.000000</td>\n",
       "      <td>107.0</td>\n",
       "      <td>4.0</td>\n",
       "      <td>4.0</td>\n",
       "      <td>4.5</td>\n",
       "      <td>8.87</td>\n",
       "      <td>1</td>\n",
       "      <td>0.76</td>\n",
       "    </tr>\n",
       "    <tr>\n",
       "      <th>2</th>\n",
       "      <td>316.558763</td>\n",
       "      <td>104.0</td>\n",
       "      <td>3.0</td>\n",
       "      <td>3.0</td>\n",
       "      <td>3.5</td>\n",
       "      <td>8.00</td>\n",
       "      <td>1</td>\n",
       "      <td>0.72</td>\n",
       "    </tr>\n",
       "    <tr>\n",
       "      <th>3</th>\n",
       "      <td>322.000000</td>\n",
       "      <td>110.0</td>\n",
       "      <td>3.0</td>\n",
       "      <td>3.5</td>\n",
       "      <td>2.5</td>\n",
       "      <td>8.67</td>\n",
       "      <td>1</td>\n",
       "      <td>0.80</td>\n",
       "    </tr>\n",
       "    <tr>\n",
       "      <th>4</th>\n",
       "      <td>314.000000</td>\n",
       "      <td>103.0</td>\n",
       "      <td>2.0</td>\n",
       "      <td>2.0</td>\n",
       "      <td>3.0</td>\n",
       "      <td>8.21</td>\n",
       "      <td>0</td>\n",
       "      <td>0.65</td>\n",
       "    </tr>\n",
       "    <tr>\n",
       "      <th>...</th>\n",
       "      <td>...</td>\n",
       "      <td>...</td>\n",
       "      <td>...</td>\n",
       "      <td>...</td>\n",
       "      <td>...</td>\n",
       "      <td>...</td>\n",
       "      <td>...</td>\n",
       "      <td>...</td>\n",
       "    </tr>\n",
       "    <tr>\n",
       "      <th>495</th>\n",
       "      <td>332.000000</td>\n",
       "      <td>108.0</td>\n",
       "      <td>5.0</td>\n",
       "      <td>4.5</td>\n",
       "      <td>4.0</td>\n",
       "      <td>9.02</td>\n",
       "      <td>1</td>\n",
       "      <td>0.87</td>\n",
       "    </tr>\n",
       "    <tr>\n",
       "      <th>496</th>\n",
       "      <td>337.000000</td>\n",
       "      <td>117.0</td>\n",
       "      <td>5.0</td>\n",
       "      <td>5.0</td>\n",
       "      <td>5.0</td>\n",
       "      <td>9.87</td>\n",
       "      <td>1</td>\n",
       "      <td>0.96</td>\n",
       "    </tr>\n",
       "    <tr>\n",
       "      <th>497</th>\n",
       "      <td>330.000000</td>\n",
       "      <td>120.0</td>\n",
       "      <td>5.0</td>\n",
       "      <td>4.5</td>\n",
       "      <td>5.0</td>\n",
       "      <td>9.56</td>\n",
       "      <td>1</td>\n",
       "      <td>0.93</td>\n",
       "    </tr>\n",
       "    <tr>\n",
       "      <th>498</th>\n",
       "      <td>312.000000</td>\n",
       "      <td>103.0</td>\n",
       "      <td>4.0</td>\n",
       "      <td>4.0</td>\n",
       "      <td>5.0</td>\n",
       "      <td>8.43</td>\n",
       "      <td>0</td>\n",
       "      <td>0.73</td>\n",
       "    </tr>\n",
       "    <tr>\n",
       "      <th>499</th>\n",
       "      <td>327.000000</td>\n",
       "      <td>113.0</td>\n",
       "      <td>4.0</td>\n",
       "      <td>4.5</td>\n",
       "      <td>4.5</td>\n",
       "      <td>9.04</td>\n",
       "      <td>0</td>\n",
       "      <td>0.84</td>\n",
       "    </tr>\n",
       "  </tbody>\n",
       "</table>\n",
       "<p>500 rows × 8 columns</p>\n",
       "</div>"
      ],
      "text/plain": [
       "      GRE Score  TOEFL Score  University Rating  SOP  LOR  CGPA  Research  \\\n",
       "0    337.000000        118.0                4.0  4.5  4.5  9.65         1   \n",
       "1    324.000000        107.0                4.0  4.0  4.5  8.87         1   \n",
       "2    316.558763        104.0                3.0  3.0  3.5  8.00         1   \n",
       "3    322.000000        110.0                3.0  3.5  2.5  8.67         1   \n",
       "4    314.000000        103.0                2.0  2.0  3.0  8.21         0   \n",
       "..          ...          ...                ...  ...  ...   ...       ...   \n",
       "495  332.000000        108.0                5.0  4.5  4.0  9.02         1   \n",
       "496  337.000000        117.0                5.0  5.0  5.0  9.87         1   \n",
       "497  330.000000        120.0                5.0  4.5  5.0  9.56         1   \n",
       "498  312.000000        103.0                4.0  4.0  5.0  8.43         0   \n",
       "499  327.000000        113.0                4.0  4.5  4.5  9.04         0   \n",
       "\n",
       "     Chance of Admit  \n",
       "0               0.92  \n",
       "1               0.76  \n",
       "2               0.72  \n",
       "3               0.80  \n",
       "4               0.65  \n",
       "..               ...  \n",
       "495             0.87  \n",
       "496             0.96  \n",
       "497             0.93  \n",
       "498             0.73  \n",
       "499             0.84  \n",
       "\n",
       "[500 rows x 8 columns]"
      ]
     },
     "execution_count": 30,
     "metadata": {},
     "output_type": "execute_result"
    }
   ],
   "source": [
    "df"
   ]
  },
  {
   "cell_type": "code",
   "execution_count": 31,
   "id": "f28ac69c",
   "metadata": {},
   "outputs": [
    {
     "data": {
      "text/plain": [
       "array([0.95655226, 0.80616023, 0.65007334, 0.74483433, 0.63702902,\n",
       "       0.87554604, 0.70286299, 0.5976811 , 0.55460481, 0.72219204,\n",
       "       0.7325153 , 0.83690056, 0.82981008, 0.63267862, 0.64113122,\n",
       "       0.65047683, 0.72145279, 0.65237293, 0.74220017, 0.65581446,\n",
       "       0.60896757, 0.69857504, 0.92685189, 0.92641531, 0.96295894,\n",
       "       0.96390748, 0.76515832, 0.51252159, 0.42671078, 0.48566015,\n",
       "       0.6033345 , 0.7188105 , 0.92387808, 0.94398663, 0.96341774,\n",
       "       0.85966612, 0.69171691, 0.53646092, 0.50061588, 0.57595507,\n",
       "       0.6359292 , 0.65627586, 0.68481036, 0.8444729 , 0.8872468 ,\n",
       "       0.82714574, 0.89769393, 0.94506612, 0.80628668, 0.74915879,\n",
       "       0.68584035, 0.62357758, 0.70645241, 0.68295594, 0.65282188,\n",
       "       0.58840058, 0.53752307, 0.51838375, 0.41758638, 0.62828468,\n",
       "       0.60798962, 0.62395745, 0.63972461, 0.70721701, 0.75234061,\n",
       "       0.78745912, 0.79588503, 0.73488476, 0.83034706, 0.86004672,\n",
       "       0.92473738, 0.97017664, 0.89625642, 0.80183888, 0.76997944,\n",
       "       0.7707425 , 0.77291666, 0.58889494, 0.50208129, 0.44475875,\n",
       "       0.63548412, 0.95576673, 0.85426083, 0.88462116, 0.93501517,\n",
       "       0.72172712, 0.68757664, 0.66210339, 0.65266467, 0.76336964,\n",
       "       0.65202839, 0.5386425 , 0.57338999, 0.57673715, 0.53044513,\n",
       "       0.56101016, 0.58862035, 0.84504464, 0.89510618, 0.79386409,\n",
       "       0.7278715 , 0.625521  , 0.65873886, 0.69877244, 0.81458717,\n",
       "       0.77932324, 0.86532148, 0.93056326, 0.91751656, 0.70390235,\n",
       "       0.6755415 , 0.77076177, 0.66796236, 0.71928649, 0.69164388,\n",
       "       0.79769632, 0.6717782 , 0.49010575, 0.47975622, 0.78933265,\n",
       "       0.95129531, 0.93374277, 0.65268603, 0.64901754, 0.69031574,\n",
       "       0.68438049, 0.84607886, 0.73800351, 0.82111094, 0.92154518,\n",
       "       0.97077025, 0.71484306, 0.69755156, 0.7855574 , 0.88561959,\n",
       "       0.76365462, 0.68831223, 0.64830894, 0.82357107, 0.78172433,\n",
       "       0.82712003, 0.88449085, 0.89799477, 0.99381595, 0.80420222,\n",
       "       0.73630675, 0.67390709, 0.82542323, 0.9598592 , 0.66488888,\n",
       "       0.90533349, 0.90657626, 0.8472352 , 0.75358675, 0.77364559,\n",
       "       0.72150493, 0.65564053, 0.62686598, 0.6086156 , 0.5345866 ,\n",
       "       0.57289054, 0.49345006, 0.69975163, 0.69873697, 0.83512585,\n",
       "       0.79721814, 0.6635856 , 0.64471497, 0.56402907, 0.593962  ,\n",
       "       0.63554363, 0.87579859, 0.84423417, 0.86220934, 0.81232804,\n",
       "       0.78605045, 0.87762556, 0.78291546, 0.62862073, 0.63351322,\n",
       "       0.60885948, 0.64562653, 0.60322798, 0.7498008 , 0.67793886,\n",
       "       0.85570211, 0.73802508, 0.91273719, 0.88827759, 0.85616644,\n",
       "       0.84798982, 0.83584155, 0.82066333, 0.95063163, 0.73018161,\n",
       "       0.69954167, 0.62385016, 0.64399746, 0.69275363, 0.73576347,\n",
       "       0.71086001, 0.70686974, 1.00435486, 0.99378633, 0.67211946,\n",
       "       0.51718923, 0.59208989, 0.64386921, 0.61857437, 0.64167997,\n",
       "       0.82762806, 0.84883707, 0.97242831, 0.97149901, 0.92005006,\n",
       "       0.90478501, 0.85390203, 0.82947571, 0.79164857, 0.6760848 ,\n",
       "       0.7281204 , 0.72198033, 0.77971079, 0.68435618, 0.60981385,\n",
       "       0.56086234, 0.68272674, 0.68977863, 0.73698156, 0.80639747,\n",
       "       0.72495185, 0.68669416, 0.65683551, 0.6008331 , 0.88465384,\n",
       "       0.86133758, 0.8567311 , 0.88406249, 0.66318398, 0.53749633,\n",
       "       0.52311027, 0.62021347, 0.7781274 , 0.81490357, 0.70690267,\n",
       "       0.80769391, 0.7261045 , 0.67653552, 0.79918831, 0.78951176,\n",
       "       0.71566626, 0.73758316, 0.7115606 , 0.95065944, 0.8336189 ,\n",
       "       0.69078933, 0.6874443 , 0.76728743, 0.79615794, 0.90604648,\n",
       "       0.83751074, 0.64104271, 0.68061   , 0.74909876, 0.75834913,\n",
       "       0.69091595, 0.65984224, 0.67245483, 0.84772852, 0.69247539,\n",
       "       0.64582775, 0.52995413, 0.47700546, 0.58985033, 0.58777639,\n",
       "       0.79068701, 0.90882796, 0.70015986, 0.6703752 , 0.72587529,\n",
       "       0.72831293, 0.82448737, 0.74871262, 0.78117373, 0.9537144 ,\n",
       "       0.8843882 , 0.89024038, 0.85188004, 0.78862038, 0.76390965,\n",
       "       0.55366133, 0.54455132, 0.5554999 , 0.63781564, 0.65646131,\n",
       "       0.67815622, 0.71008177, 0.82954843, 0.87702098, 0.70553619,\n",
       "       0.59739162, 0.72936857, 0.71027383, 0.74172153, 0.65391022,\n",
       "       0.7738543 , 0.81979647, 0.82653547, 0.6898791 , 0.69289808,\n",
       "       0.75387668, 0.84960684, 0.79644874, 0.58785288, 0.62882552,\n",
       "       0.61253292, 0.53716789, 0.56069037, 0.75841831, 0.77541631,\n",
       "       0.72141096, 0.73051229, 0.6690648 , 0.60427058, 0.65391328,\n",
       "       0.84981635, 0.56283672, 0.53228787, 0.78640408, 0.52308082,\n",
       "       0.76767319, 0.62800767, 0.64785745, 0.73313115, 0.74487478,\n",
       "       0.84703837, 0.73354614, 0.93509499, 0.77119619, 0.7738536 ,\n",
       "       0.69806342, 0.78103569, 0.639163  , 0.61636146, 0.45367794,\n",
       "       0.51723008, 0.51364995, 0.43779919, 0.45917044, 0.61356227,\n",
       "       0.69393134, 0.77902933, 0.61804461, 0.59842104, 0.52214903,\n",
       "       0.64742957, 0.79059829, 0.59982695, 0.55107767, 0.66520146,\n",
       "       0.78171493, 0.91539938, 0.91011089, 0.64046325, 0.76500931,\n",
       "       0.84767216, 0.71843697, 0.51024435, 0.5198916 , 0.59290209,\n",
       "       0.62522037, 0.82882511, 0.94438015, 0.73119503, 0.56178362,\n",
       "       0.53245191, 0.47107692, 0.47547426, 0.51961845, 0.66874974,\n",
       "       0.77987437, 0.74450036, 0.840992  , 0.62174418, 0.97403144,\n",
       "       0.98521892, 0.58413051, 0.61966923, 0.51766808, 0.73092651,\n",
       "       0.63106428, 0.71228864, 0.83628496, 0.71841814, 0.86383045,\n",
       "       0.81335433, 0.8182814 , 0.91269893, 0.72920656, 0.9402699 ,\n",
       "       0.61383132, 0.66126818, 0.79042779, 0.86652303, 0.56832462,\n",
       "       0.50967371, 0.65008392, 0.60427891, 0.56678189, 0.56157264,\n",
       "       0.5254189 , 0.5843824 , 0.60435956, 0.61353761, 0.72884822,\n",
       "       0.79717492, 0.62534565, 0.56205335, 0.65059942, 0.62042948,\n",
       "       0.50058106, 0.81432696, 0.79805799, 0.9495861 , 0.91014103,\n",
       "       0.95252412, 0.72270807, 0.74023413, 0.73443989, 0.8848506 ,\n",
       "       0.6567632 , 0.77090128, 0.85385368, 0.74181434, 0.62616251,\n",
       "       0.57781969, 0.54516606, 0.59924484, 0.73403145, 0.66844094,\n",
       "       0.54180481, 0.76580406, 0.91278057, 0.85527549, 0.87876975,\n",
       "       0.87133135, 0.946825  , 0.81610809, 0.76643529, 0.78548109,\n",
       "       0.80430579, 0.86764694, 0.91202616, 0.7598087 , 0.62951078,\n",
       "       0.53309299, 0.54074129, 0.47815708, 0.68648958, 0.87578499,\n",
       "       0.76449578, 0.60575541, 0.59987779, 0.58373842, 0.46548138,\n",
       "       0.64468206, 0.7511868 , 0.7817116 , 0.81896514, 0.84523238,\n",
       "       0.85132809, 0.63490871, 0.90884976, 0.642449  , 0.61517764,\n",
       "       0.55871896, 0.59459812, 0.62009763, 0.73265046, 0.81830891,\n",
       "       0.79621955, 0.71966665, 0.78066764, 0.59393044, 0.63308529,\n",
       "       0.68411422, 0.66311202, 0.8339856 , 0.76536251, 0.72406491,\n",
       "       0.65893185, 0.55867317, 0.58406316, 0.59121875, 0.64191495,\n",
       "       0.8409886 , 0.99595718, 0.94563084, 0.70411948, 0.82666617])"
      ]
     },
     "execution_count": 31,
     "metadata": {},
     "output_type": "execute_result"
    }
   ],
   "source": [
    "from sklearn.linear_model import LinearRegression,ridge_regression\n",
    "from sklearn.preprocessing import StandardScaler\n",
    "from sklearn.metrics import r2_score\n",
    "from sklearn.model_selection import train_test_split\n",
    "ind=df.columns[0:len(df.columns)-1]\n",
    "dep=df.columns[-1]\n",
    "x = df[ind]\n",
    "y = df[dep]\n",
    "X=x.values\n",
    "Y=y.values\n",
    "scale=StandardScaler()\n",
    "scale_X=scale.fit_transform(X)\n",
    "model1=LinearRegression()\n",
    "x_train,x_test,y_train,y_test = train_test_split(scale_X,Y,test_size = 0.25,random_state=355)\n",
    "model1.fit(x_train,y_train)\n",
    "transformed=scale.transform(x.values)\n",
    "# model.coef_\n",
    "model1.predict(transformed)"
   ]
  },
  {
   "cell_type": "code",
   "execution_count": 32,
   "id": "11965206",
   "metadata": {},
   "outputs": [
    {
     "data": {
      "text/plain": [
       "0.8415250484247909"
      ]
     },
     "execution_count": 32,
     "metadata": {},
     "output_type": "execute_result"
    }
   ],
   "source": [
    "model1.score(x_train,y_train)"
   ]
  },
  {
   "cell_type": "code",
   "execution_count": 33,
   "id": "e0e645df",
   "metadata": {},
   "outputs": [
    {
     "data": {
      "text/plain": [
       "0.7534898831471066"
      ]
     },
     "execution_count": 33,
     "metadata": {},
     "output_type": "execute_result"
    }
   ],
   "source": [
    "model1.score(x_test,y_test)"
   ]
  },
  {
   "cell_type": "code",
   "execution_count": 34,
   "id": "fd9dd98a",
   "metadata": {},
   "outputs": [
    {
     "data": {
      "text/plain": [
       "375"
      ]
     },
     "execution_count": 34,
     "metadata": {},
     "output_type": "execute_result"
    }
   ],
   "source": [
    "len(x_train)"
   ]
  },
  {
   "cell_type": "code",
   "execution_count": 35,
   "id": "75179abc",
   "metadata": {},
   "outputs": [
    {
     "data": {
      "text/plain": [
       "375"
      ]
     },
     "execution_count": 35,
     "metadata": {},
     "output_type": "execute_result"
    }
   ],
   "source": [
    "len(x_train)"
   ]
  },
  {
   "cell_type": "code",
   "execution_count": 36,
   "id": "addbda94",
   "metadata": {},
   "outputs": [
    {
     "data": {
      "text/plain": [
       "125"
      ]
     },
     "execution_count": 36,
     "metadata": {},
     "output_type": "execute_result"
    }
   ],
   "source": [
    "len(x_test)"
   ]
  },
  {
   "cell_type": "code",
   "execution_count": 37,
   "id": "481cb900",
   "metadata": {},
   "outputs": [
    {
     "data": {
      "text/plain": [
       "125"
      ]
     },
     "execution_count": 37,
     "metadata": {},
     "output_type": "execute_result"
    }
   ],
   "source": [
    "len(y_test)"
   ]
  },
  {
   "cell_type": "code",
   "execution_count": 38,
   "id": "b43a7977",
   "metadata": {},
   "outputs": [],
   "source": [
    "# Let's create a function to create adjusted R-Squared\n",
    "def adj_r2(x,y):\n",
    "    r2 = model1.score(x,y)\n",
    "    n = x_train.shape[0]\n",
    "    p = x_train.shape[1]\n",
    "    adjusted_r2 = 1-(1-r2)*(n-1)/(n-p-1)\n",
    "    return adjusted_r2"
   ]
  },
  {
   "cell_type": "code",
   "execution_count": 39,
   "id": "99a2ce8d",
   "metadata": {},
   "outputs": [
    {
     "data": {
      "text/plain": [
       "0.8385023654247188"
      ]
     },
     "execution_count": 39,
     "metadata": {},
     "output_type": "execute_result"
    }
   ],
   "source": [
    "adj_r2(x_train,y_train)"
   ]
  },
  {
   "cell_type": "code",
   "execution_count": 40,
   "id": "d1a92ab3",
   "metadata": {},
   "outputs": [
    {
     "data": {
      "text/plain": [
       "0.7487880553052259"
      ]
     },
     "execution_count": 40,
     "metadata": {},
     "output_type": "execute_result"
    }
   ],
   "source": [
    "adj_r2(x_test,y_test)"
   ]
  },
  {
   "cell_type": "code",
   "execution_count": 41,
   "id": "e7773f58",
   "metadata": {},
   "outputs": [],
   "source": [
    "with open('scale','wb') as f:\n",
    "    pickle.dump(scale,f)"
   ]
  },
  {
   "cell_type": "code",
   "execution_count": 42,
   "id": "6ad651be",
   "metadata": {},
   "outputs": [],
   "source": [
    "with open('scale','rb') as f:\n",
    "    scale=pickle.load(f)"
   ]
  },
  {
   "cell_type": "code",
   "execution_count": 43,
   "id": "8b5c5753",
   "metadata": {},
   "outputs": [],
   "source": [
    "with open('withscale','wb') as f:\n",
    "    pickle.dump(model1,f)"
   ]
  },
  {
   "cell_type": "code",
   "execution_count": 44,
   "id": "3aa31432",
   "metadata": {},
   "outputs": [],
   "source": [
    "with open('withscale','rb') as f:\n",
    "    ob=pickle.load(f)"
   ]
  },
  {
   "cell_type": "code",
   "execution_count": 45,
   "id": "b69f0ce1",
   "metadata": {},
   "outputs": [],
   "source": [
    "val=scale.transform([[25,6,5,6,8,2,1]])"
   ]
  },
  {
   "cell_type": "code",
   "execution_count": 46,
   "id": "f800f9c6",
   "metadata": {},
   "outputs": [
    {
     "data": {
      "text/plain": [
       "array([-0.84573964])"
      ]
     },
     "execution_count": 46,
     "metadata": {},
     "output_type": "execute_result"
    }
   ],
   "source": [
    "model1.predict(val)"
   ]
  },
  {
   "cell_type": "code",
   "execution_count": null,
   "id": "f0f50c55",
   "metadata": {},
   "outputs": [],
   "source": []
  },
  {
   "cell_type": "code",
   "execution_count": null,
   "id": "171b43f7",
   "metadata": {},
   "outputs": [],
   "source": []
  }
 ],
 "metadata": {
  "kernelspec": {
   "display_name": "Python 3.10.6 ('linear')",
   "language": "python",
   "name": "python3"
  },
  "language_info": {
   "codemirror_mode": {
    "name": "ipython",
    "version": 3
   },
   "file_extension": ".py",
   "mimetype": "text/x-python",
   "name": "python",
   "nbconvert_exporter": "python",
   "pygments_lexer": "ipython3",
   "version": "3.10.6"
  },
  "vscode": {
   "interpreter": {
    "hash": "6d03eff703a0ff61ae441a7d71fc4aa267a1363a4b675319316ce0053bbec10a"
   }
  }
 },
 "nbformat": 4,
 "nbformat_minor": 5
}
